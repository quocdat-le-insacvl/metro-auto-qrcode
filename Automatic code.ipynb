{
 "cells": [
  {
   "cell_type": "code",
   "execution_count": 1,
   "id": "3850ac56",
   "metadata": {
    "ExecuteTime": {
     "end_time": "2022-03-15T21:46:10.475109Z",
     "start_time": "2022-03-15T21:46:09.732226Z"
    }
   },
   "outputs": [],
   "source": [
    "import pandas as pd\n",
    "from barcode import EAN8\n",
    "from barcode.writer import ImageWriter\n",
    "import qrcode"
   ]
  },
  {
   "cell_type": "code",
   "execution_count": 2,
   "id": "db9a171e",
   "metadata": {
    "ExecuteTime": {
     "end_time": "2022-03-15T21:46:12.908554Z",
     "start_time": "2022-03-15T21:46:12.875233Z"
    },
    "scrolled": true
   },
   "outputs": [
    {
     "data": {
      "text/html": [
       "<div>\n",
       "<style scoped>\n",
       "    .dataframe tbody tr th:only-of-type {\n",
       "        vertical-align: middle;\n",
       "    }\n",
       "\n",
       "    .dataframe tbody tr th {\n",
       "        vertical-align: top;\n",
       "    }\n",
       "\n",
       "    .dataframe thead th {\n",
       "        text-align: right;\n",
       "    }\n",
       "</style>\n",
       "<table border=\"1\" class=\"dataframe\">\n",
       "  <thead>\n",
       "    <tr style=\"text-align: right;\">\n",
       "      <th></th>\n",
       "      <th>Category</th>\n",
       "      <th>Subcategory</th>\n",
       "      <th>Title</th>\n",
       "      <th>Number</th>\n",
       "    </tr>\n",
       "  </thead>\n",
       "  <tbody>\n",
       "    <tr>\n",
       "      <th>0</th>\n",
       "      <td>Autres</td>\n",
       "      <td>NaN</td>\n",
       "      <td>Consultation des prix</td>\n",
       "      <td>102007040</td>\n",
       "    </tr>\n",
       "    <tr>\n",
       "      <th>1</th>\n",
       "      <td>Bof</td>\n",
       "      <td>Dessert</td>\n",
       "      <td>Mousse choco déshydratée</td>\n",
       "      <td>2473381</td>\n",
       "    </tr>\n",
       "    <tr>\n",
       "      <th>2</th>\n",
       "      <td>Bof</td>\n",
       "      <td>Fromage</td>\n",
       "      <td>Mozza 2.5 kg verte</td>\n",
       "      <td>0111187</td>\n",
       "    </tr>\n",
       "    <tr>\n",
       "      <th>3</th>\n",
       "      <td>Bof</td>\n",
       "      <td>Fromage</td>\n",
       "      <td>Roblochon Savoie Taurnette *</td>\n",
       "      <td>2871895</td>\n",
       "    </tr>\n",
       "    <tr>\n",
       "      <th>4</th>\n",
       "      <td>Bof</td>\n",
       "      <td>Fromage</td>\n",
       "      <td>Saint Nectaire Laitier</td>\n",
       "      <td>2354579</td>\n",
       "    </tr>\n",
       "    <tr>\n",
       "      <th>...</th>\n",
       "      <td>...</td>\n",
       "      <td>...</td>\n",
       "      <td>...</td>\n",
       "      <td>...</td>\n",
       "    </tr>\n",
       "    <tr>\n",
       "      <th>68</th>\n",
       "      <td>Épicerie</td>\n",
       "      <td>NaN</td>\n",
       "      <td>Cèpes extra sèche 500g</td>\n",
       "      <td>2755395</td>\n",
       "    </tr>\n",
       "    <tr>\n",
       "      <th>69</th>\n",
       "      <td>Épicerie</td>\n",
       "      <td>NaN</td>\n",
       "      <td>Farine Rochambeau</td>\n",
       "      <td>2422038</td>\n",
       "    </tr>\n",
       "    <tr>\n",
       "      <th>70</th>\n",
       "      <td>Épicerie</td>\n",
       "      <td>NaN</td>\n",
       "      <td>Riz Sushi</td>\n",
       "      <td>1796762</td>\n",
       "    </tr>\n",
       "    <tr>\n",
       "      <th>71</th>\n",
       "      <td>Épicerie</td>\n",
       "      <td>NaN</td>\n",
       "      <td>Serviettes lerk verte</td>\n",
       "      <td>0964148</td>\n",
       "    </tr>\n",
       "    <tr>\n",
       "      <th>72</th>\n",
       "      <td>Épicerie</td>\n",
       "      <td>NaN</td>\n",
       "      <td>Sucre Muscovado</td>\n",
       "      <td>1797224</td>\n",
       "    </tr>\n",
       "  </tbody>\n",
       "</table>\n",
       "<p>73 rows × 4 columns</p>\n",
       "</div>"
      ],
      "text/plain": [
       "    Category Subcategory                         Title     Number\n",
       "0     Autres         NaN         Consultation des prix  102007040\n",
       "1        Bof     Dessert      Mousse choco déshydratée    2473381\n",
       "2        Bof     Fromage            Mozza 2.5 kg verte    0111187\n",
       "3        Bof     Fromage  Roblochon Savoie Taurnette *    2871895\n",
       "4        Bof     Fromage        Saint Nectaire Laitier    2354579\n",
       "..       ...         ...                           ...        ...\n",
       "68  Épicerie         NaN        Cèpes extra sèche 500g    2755395\n",
       "69  Épicerie         NaN             Farine Rochambeau    2422038\n",
       "70  Épicerie         NaN                     Riz Sushi    1796762\n",
       "71  Épicerie         NaN        Serviettes lerk verte     0964148\n",
       "72  Épicerie         NaN               Sucre Muscovado    1797224\n",
       "\n",
       "[73 rows x 4 columns]"
      ]
     },
     "execution_count": 2,
     "metadata": {},
     "output_type": "execute_result"
    }
   ],
   "source": [
    "data = pd.read_csv('Metro_article_list.csv',\n",
    "                   dtype={'Number':'str', 'Subcategory' : 'str', 'Category' : 'str'},\n",
    "                   encoding='utf')\n",
    "data = data.sort_values(['Category', 'Subcategory', 'Title']).reset_index(drop=True)\n",
    "data"
   ]
  },
  {
   "cell_type": "code",
   "execution_count": null,
   "id": "33ac08f5",
   "metadata": {
    "ExecuteTime": {
     "end_time": "2022-02-17T10:28:15.977993Z",
     "start_time": "2022-02-17T10:28:15.967993Z"
    }
   },
   "outputs": [],
   "source": [
    "# for loop, create file in folder, ID  = Code : number\n",
    "# for index, number in data.loc[:, ['Number']].itertuples():\n",
    "#     with open('code_bar/' + number +'.jpeg', 'wb') as f:\n",
    "#         EAN8(number, writer=ImageWriter()).write(f)"
   ]
  },
  {
   "cell_type": "code",
   "execution_count": 3,
   "id": "a8845bdc",
   "metadata": {
    "ExecuteTime": {
     "end_time": "2022-03-15T21:46:25.890672Z",
     "start_time": "2022-03-15T21:46:25.174302Z"
    }
   },
   "outputs": [],
   "source": [
    "# for loop, create file in folder, ID  = Code : number\n",
    "for index, number in data.loc[:, ['Number']].itertuples():\n",
    "    with open('code_bar/' + number +'.jpeg', 'wb') as f:\n",
    "        EAN8(number, writer=ImageWriter()).write(f)\n",
    "    # QR code\n",
    "    qrcode.make(number).save(\"qr_code/\" + number + \".jpeg\")"
   ]
  },
  {
   "cell_type": "code",
   "execution_count": 4,
   "id": "b5881471",
   "metadata": {
    "ExecuteTime": {
     "end_time": "2022-03-15T21:46:33.079755Z",
     "start_time": "2022-03-15T21:46:33.051294Z"
    },
    "scrolled": true
   },
   "outputs": [
    {
     "data": {
      "text/html": [
       "<div>\n",
       "<style scoped>\n",
       "    .dataframe tbody tr th:only-of-type {\n",
       "        vertical-align: middle;\n",
       "    }\n",
       "\n",
       "    .dataframe tbody tr th {\n",
       "        vertical-align: top;\n",
       "    }\n",
       "\n",
       "    .dataframe thead th {\n",
       "        text-align: right;\n",
       "    }\n",
       "</style>\n",
       "<table border=\"1\" class=\"dataframe\">\n",
       "  <thead>\n",
       "    <tr style=\"text-align: right;\">\n",
       "      <th></th>\n",
       "      <th>Category</th>\n",
       "      <th>Subcategory</th>\n",
       "      <th>Title</th>\n",
       "      <th>Number</th>\n",
       "      <th>QR code</th>\n",
       "    </tr>\n",
       "  </thead>\n",
       "  <tbody>\n",
       "    <tr>\n",
       "      <th>0</th>\n",
       "      <td>Autres</td>\n",
       "      <td>Autre</td>\n",
       "      <td>Consultation des prix</td>\n",
       "      <td>102007040</td>\n",
       "      <td>&lt;img src=\"qr_code/102007040.jpeg\" width=\"50px\" /&gt;</td>\n",
       "    </tr>\n",
       "    <tr>\n",
       "      <th>1</th>\n",
       "      <td>Bof</td>\n",
       "      <td>Dessert</td>\n",
       "      <td>Mousse choco déshydratée</td>\n",
       "      <td>2473381</td>\n",
       "      <td>&lt;img src=\"qr_code/2473381.jpeg\" width=\"50px\" /&gt;</td>\n",
       "    </tr>\n",
       "    <tr>\n",
       "      <th>2</th>\n",
       "      <td>Bof</td>\n",
       "      <td>Fromage</td>\n",
       "      <td>Mozza 2.5 kg verte</td>\n",
       "      <td>0111187</td>\n",
       "      <td>&lt;img src=\"qr_code/0111187.jpeg\" width=\"50px\" /&gt;</td>\n",
       "    </tr>\n",
       "    <tr>\n",
       "      <th>3</th>\n",
       "      <td>Bof</td>\n",
       "      <td>Fromage</td>\n",
       "      <td>Roblochon Savoie Taurnette *</td>\n",
       "      <td>2871895</td>\n",
       "      <td>&lt;img src=\"qr_code/2871895.jpeg\" width=\"50px\" /&gt;</td>\n",
       "    </tr>\n",
       "    <tr>\n",
       "      <th>4</th>\n",
       "      <td>Bof</td>\n",
       "      <td>Fromage</td>\n",
       "      <td>Saint Nectaire Laitier</td>\n",
       "      <td>2354579</td>\n",
       "      <td>&lt;img src=\"qr_code/2354579.jpeg\" width=\"50px\" /&gt;</td>\n",
       "    </tr>\n",
       "    <tr>\n",
       "      <th>...</th>\n",
       "      <td>...</td>\n",
       "      <td>...</td>\n",
       "      <td>...</td>\n",
       "      <td>...</td>\n",
       "      <td>...</td>\n",
       "    </tr>\n",
       "    <tr>\n",
       "      <th>68</th>\n",
       "      <td>Épicerie</td>\n",
       "      <td>Autre</td>\n",
       "      <td>Cèpes extra sèche 500g</td>\n",
       "      <td>2755395</td>\n",
       "      <td>&lt;img src=\"qr_code/2755395.jpeg\" width=\"50px\" /&gt;</td>\n",
       "    </tr>\n",
       "    <tr>\n",
       "      <th>69</th>\n",
       "      <td>Épicerie</td>\n",
       "      <td>Autre</td>\n",
       "      <td>Farine Rochambeau</td>\n",
       "      <td>2422038</td>\n",
       "      <td>&lt;img src=\"qr_code/2422038.jpeg\" width=\"50px\" /&gt;</td>\n",
       "    </tr>\n",
       "    <tr>\n",
       "      <th>70</th>\n",
       "      <td>Épicerie</td>\n",
       "      <td>Autre</td>\n",
       "      <td>Riz Sushi</td>\n",
       "      <td>1796762</td>\n",
       "      <td>&lt;img src=\"qr_code/1796762.jpeg\" width=\"50px\" /&gt;</td>\n",
       "    </tr>\n",
       "    <tr>\n",
       "      <th>71</th>\n",
       "      <td>Épicerie</td>\n",
       "      <td>Autre</td>\n",
       "      <td>Serviettes lerk verte</td>\n",
       "      <td>0964148</td>\n",
       "      <td>&lt;img src=\"qr_code/0964148.jpeg\" width=\"50px\" /&gt;</td>\n",
       "    </tr>\n",
       "    <tr>\n",
       "      <th>72</th>\n",
       "      <td>Épicerie</td>\n",
       "      <td>Autre</td>\n",
       "      <td>Sucre Muscovado</td>\n",
       "      <td>1797224</td>\n",
       "      <td>&lt;img src=\"qr_code/1797224.jpeg\" width=\"50px\" /&gt;</td>\n",
       "    </tr>\n",
       "  </tbody>\n",
       "</table>\n",
       "<p>73 rows × 5 columns</p>\n",
       "</div>"
      ],
      "text/plain": [
       "    Category Subcategory                         Title     Number  \\\n",
       "0     Autres       Autre         Consultation des prix  102007040   \n",
       "1        Bof     Dessert      Mousse choco déshydratée    2473381   \n",
       "2        Bof     Fromage            Mozza 2.5 kg verte    0111187   \n",
       "3        Bof     Fromage  Roblochon Savoie Taurnette *    2871895   \n",
       "4        Bof     Fromage        Saint Nectaire Laitier    2354579   \n",
       "..       ...         ...                           ...        ...   \n",
       "68  Épicerie       Autre        Cèpes extra sèche 500g    2755395   \n",
       "69  Épicerie       Autre             Farine Rochambeau    2422038   \n",
       "70  Épicerie       Autre                     Riz Sushi    1796762   \n",
       "71  Épicerie       Autre        Serviettes lerk verte     0964148   \n",
       "72  Épicerie       Autre               Sucre Muscovado    1797224   \n",
       "\n",
       "                                              QR code  \n",
       "0   <img src=\"qr_code/102007040.jpeg\" width=\"50px\" />  \n",
       "1     <img src=\"qr_code/2473381.jpeg\" width=\"50px\" />  \n",
       "2     <img src=\"qr_code/0111187.jpeg\" width=\"50px\" />  \n",
       "3     <img src=\"qr_code/2871895.jpeg\" width=\"50px\" />  \n",
       "4     <img src=\"qr_code/2354579.jpeg\" width=\"50px\" />  \n",
       "..                                                ...  \n",
       "68    <img src=\"qr_code/2755395.jpeg\" width=\"50px\" />  \n",
       "69    <img src=\"qr_code/2422038.jpeg\" width=\"50px\" />  \n",
       "70    <img src=\"qr_code/1796762.jpeg\" width=\"50px\" />  \n",
       "71    <img src=\"qr_code/0964148.jpeg\" width=\"50px\" />  \n",
       "72    <img src=\"qr_code/1797224.jpeg\" width=\"50px\" />  \n",
       "\n",
       "[73 rows x 5 columns]"
      ]
     },
     "execution_count": 4,
     "metadata": {},
     "output_type": "execute_result"
    }
   ],
   "source": [
    "# ![alt text](Isolated.png \"Title\")\n",
    "# Add images\n",
    "# data.loc[:, 'Code bar'] =  '![](code_bar/' + data.Number.values + '.jpeg)'\n",
    "# data.loc[:, 'QR code'] =  '![image](qr_code/' + data.Number.values + '.jpeg)'\n",
    "data.loc[:, 'QR code'] = '<img src=\"qr_code/' + data.Number.values + '.jpeg\" width=\"50px\" />'\n",
    "# data.loc[:, 'QR code'] =  '![image](qr_code/' + data.Number.values + '.jpeg){width=50%}'\n",
    "data['Subcategory'] = data['Subcategory'].fillna('Autre')\n",
    "# data.loc[:, 'Category'] =  data.Category.astype('str').values + '/' + data['Subcategory'].astype('str').values \n",
    "# data = data.loc[:, ['Category', 'Title', 'Number', 'QR code']]\n",
    "data"
   ]
  },
  {
   "cell_type": "code",
   "execution_count": 7,
   "id": "0b358d68",
   "metadata": {
    "ExecuteTime": {
     "end_time": "2022-03-15T21:48:39.933398Z",
     "start_time": "2022-03-15T21:48:39.915159Z"
    }
   },
   "outputs": [],
   "source": [
    "# with open(\"test.md\", 'w'):\n",
    "# remove Number column \n",
    "data = data.drop(columns=['Number'])\n",
    "\n",
    "data.to_markdown('test.md', index=False)"
   ]
  }
 ],
 "metadata": {
  "hide_input": false,
  "kernelspec": {
   "display_name": "Python 3",
   "language": "python",
   "name": "python3"
  },
  "language_info": {
   "codemirror_mode": {
    "name": "ipython",
    "version": 3
   },
   "file_extension": ".py",
   "mimetype": "text/x-python",
   "name": "python",
   "nbconvert_exporter": "python",
   "pygments_lexer": "ipython3",
   "version": "3.8.8"
  },
  "toc": {
   "base_numbering": 1,
   "nav_menu": {},
   "number_sections": true,
   "sideBar": true,
   "skip_h1_title": false,
   "title_cell": "Table of Contents",
   "title_sidebar": "Contents",
   "toc_cell": false,
   "toc_position": {},
   "toc_section_display": true,
   "toc_window_display": false
  },
  "varInspector": {
   "cols": {
    "lenName": 16,
    "lenType": 16,
    "lenVar": 40
   },
   "kernels_config": {
    "python": {
     "delete_cmd_postfix": "",
     "delete_cmd_prefix": "del ",
     "library": "var_list.py",
     "varRefreshCmd": "print(var_dic_list())"
    },
    "r": {
     "delete_cmd_postfix": ") ",
     "delete_cmd_prefix": "rm(",
     "library": "var_list.r",
     "varRefreshCmd": "cat(var_dic_list()) "
    }
   },
   "types_to_exclude": [
    "module",
    "function",
    "builtin_function_or_method",
    "instance",
    "_Feature"
   ],
   "window_display": false
  }
 },
 "nbformat": 4,
 "nbformat_minor": 5
}
