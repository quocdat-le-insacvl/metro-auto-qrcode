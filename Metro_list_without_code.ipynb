{
  "nbformat": 4,
  "nbformat_minor": 0,
  "metadata": {
    "colab": {
      "name": "Metro_list_without_code.ipynb",
      "provenance": [],
      "authorship_tag": "ABX9TyOZYXyDf5ZoeEIhnlUvNHwQ",
      "include_colab_link": true
    },
    "kernelspec": {
      "name": "python3",
      "display_name": "Python 3"
    },
    "language_info": {
      "name": "python"
    }
  },
  "cells": [
    {
      "cell_type": "markdown",
      "metadata": {
        "id": "view-in-github",
        "colab_type": "text"
      },
      "source": [
        "<a href=\"https://colab.research.google.com/github/quocdat-le-insacvl/metro-auto-qrcode/blob/main/Metro_list_without_code.ipynb\" target=\"_parent\"><img src=\"https://colab.research.google.com/assets/colab-badge.svg\" alt=\"Open In Colab\"/></a>"
      ]
    },
    {
      "cell_type": "code",
      "execution_count": 1,
      "metadata": {
        "colab": {
          "base_uri": "https://localhost:8080/"
        },
        "id": "tm8qNIry0fn4",
        "outputId": "2ccd5c02-b12e-4d29-9d3e-6258e431ca7f"
      },
      "outputs": [
        {
          "output_type": "stream",
          "name": "stdout",
          "text": [
            "Cloning into 'metro-auto-qrcode'...\n",
            "remote: Enumerating objects: 171, done.\u001b[K\n",
            "remote: Counting objects: 100% (171/171), done.\u001b[K\n",
            "remote: Compressing objects: 100% (163/163), done.\u001b[K\n",
            "remote: Total 171 (delta 6), reused 171 (delta 6), pack-reused 0\u001b[K\n",
            "Receiving objects: 100% (171/171), 1.22 MiB | 3.00 MiB/s, done.\n",
            "Resolving deltas: 100% (6/6), done.\n"
          ]
        }
      ],
      "source": [
        "!git clone https://github.com/quocdat-le-insacvl/metro-auto-qrcode"
      ]
    }
  ]
}